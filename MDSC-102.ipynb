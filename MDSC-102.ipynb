{
  "cells": [
    {
      "cell_type": "markdown",
      "metadata": {
        "id": "view-in-github",
        "colab_type": "text"
      },
      "source": [
        "<a href=\"https://colab.research.google.com/github/kulvanth5/Inferential-Statistics/blob/main/MDSC-102.ipynb\" target=\"_parent\"><img src=\"https://colab.research.google.com/assets/colab-badge.svg\" alt=\"Open In Colab\"/></a>"
      ]
    },
    {
      "cell_type": "code",
      "execution_count": null,
      "metadata": {
        "id": "6wQXRTqbQaAz"
      },
      "outputs": [],
      "source": [
        "import pandas as pd\n",
        "\n",
        "df = pd.read_csv('/content/drive/MyDrive/colab files/wine/wine.data')\n",
        "\n",
        "features = ['class','Alcohol','Malic acid','Ash','Alcalinity of ash','Magnesium','Total phenols','Flavanoids','Nonflavanoid phenols','Proanthocyanins','Color intensity','Hue','OD280/OD315 of diluted wines','Proline']\n",
        "\n",
        "df.columns = features\n",
        "\n",
        "df.info()"
      ]
    },
    {
      "cell_type": "code",
      "source": [
        "wine = df.copy()\n",
        "\n",
        "drop_cols = wine.select_dtypes(include=['int']).columns\n",
        "\n",
        "wine.drop(columns=drop_cols,inplace=True)\n",
        "\n",
        "wine.info()"
      ],
      "metadata": {
        "id": "yKFfKU66UJXD"
      },
      "execution_count": null,
      "outputs": []
    },
    {
      "cell_type": "code",
      "source": [
        "from scipy import stats\n",
        "\n",
        "for col in wine.columns:\n",
        "\n",
        "  temp , lamda = stats.boxcox(wine[col])\n",
        "  print(lamda)\n",
        "  wine[col] = (wine[col]**lamda - 1)/lamda"
      ],
      "metadata": {
        "id": "TV4VvT0DYOIZ"
      },
      "execution_count": null,
      "outputs": []
    },
    {
      "cell_type": "code",
      "source": [
        "wine.skew()"
      ],
      "metadata": {
        "id": "Cr9yX9PgYo1S"
      },
      "execution_count": null,
      "outputs": []
    },
    {
      "cell_type": "code",
      "source": [
        "sample_mean = wine.mean()\n",
        "\n",
        "sample_variance = wine.var()\n",
        "\n",
        "sample_mean , sample_variance"
      ],
      "metadata": {
        "colab": {
          "base_uri": "https://localhost:8080/"
        },
        "id": "4pXgpCQcYyjB",
        "outputId": "5f60ca01-8e0f-4d31-c53a-ca5e8ae093e2"
      },
      "execution_count": null,
      "outputs": [
        {
          "output_type": "execute_result",
          "data": {
            "text/plain": [
              "(Alcohol                         18.131962\n",
              " Malic acid                       0.653485\n",
              " Ash                              1.696903\n",
              " Alcalinity of ash               10.175642\n",
              " Total phenols                    1.085829\n",
              " Flavanoids                       0.856895\n",
              " Nonflavanoid phenols            -0.916605\n",
              " Proanthocyanins                  0.489091\n",
              " Color intensity                  1.607183\n",
              " Hue                             -0.046692\n",
              " OD280/OD315 of diluted wines     2.081374\n",
              " dtype: float64,\n",
              " Alcohol                         2.087923\n",
              " Malic acid                      0.133789\n",
              " Ash                             0.153967\n",
              " Alcalinity of ash               1.998343\n",
              " Total phenols                   0.229960\n",
              " Flavanoids                      0.724606\n",
              " Nonflavanoid phenols            0.068450\n",
              " Proanthocyanins                 0.221642\n",
              " Color intensity                 0.261968\n",
              " Hue                             0.053439\n",
              " OD280/OD315 of diluted wines    1.036908\n",
              " dtype: float64)"
            ]
          },
          "metadata": {},
          "execution_count": 15
        }
      ]
    },
    {
      "cell_type": "code",
      "source": [
        "from scipy.stats import t , chi2\n",
        "\n",
        "df , alpha = 176 , 0.05\n",
        "\n",
        "t_value = t.ppf(1-alpha/2,df)\n",
        "\n",
        "chi_value1 , chi_value2 = chi2.ppf(alpha/2,df) , chi2.ppf(1-(alpha/2),df)\n",
        "\n",
        "t_value , chi_value1 , chi_value2"
      ],
      "metadata": {
        "colab": {
          "base_uri": "https://localhost:8080/"
        },
        "id": "C6FY42qjZj6x",
        "outputId": "6825ee14-6410-4e64-a3d7-466a858bd79b"
      },
      "execution_count": null,
      "outputs": [
        {
          "output_type": "execute_result",
          "data": {
            "text/plain": [
              "(1.973534387701743, 141.15714654219363, 214.62835716504765)"
            ]
          },
          "metadata": {},
          "execution_count": 13
        }
      ]
    },
    {
      "cell_type": "code",
      "source": [
        "t1 = [sample_mean - (t_value*(sample_variance/177)**0.5),sample_mean + (t_value*(sample_variance/177)**0.5)]\n",
        "\n",
        "ci_for_mean = []\n",
        "\n",
        "for i in range(len(t1[0])):\n",
        "  ci_for_mean.append([t1[0][i],t1[1][i]])\n",
        "\n",
        "ci_for_mean\n",
        "features = ['Alcohol','Malic acid','Ash','Alcalinity of ash','Total phenols','Flavanoids','Nonflavanoid phenols','Proanthocyanins','Color intensity','Hue','OD280/OD315 of diluted wines']\n",
        "\n",
        "ci_for_mean = dict(zip(features,ci_for_mean))\n",
        "\n",
        "ci_for_mean"
      ],
      "metadata": {
        "colab": {
          "base_uri": "https://localhost:8080/"
        },
        "id": "jcJkTGMNcNF3",
        "outputId": "92487e59-7794-4aec-b6ce-bf27d954f5d0"
      },
      "execution_count": null,
      "outputs": [
        {
          "output_type": "execute_result",
          "data": {
            "text/plain": [
              "{'Alcohol': [17.917616099135035, 18.34630797822035],\n",
              " 'Malic acid': [0.599226605781134, 0.7077436389331002],\n",
              " 'Ash': [1.6386962316191487, 1.7551094712762358],\n",
              " 'Alcalinity of ash': [9.965944101827729, 10.385338925269403],\n",
              " 'Total phenols': [1.0146938840986277, 1.1569642242048828],\n",
              " 'Flavanoids': [0.7306228206441867, 0.9831679011333083],\n",
              " 'Nonflavanoid phenols': [-0.9554146069103828, -0.8777945720850424],\n",
              " 'Proanthocyanins': [0.4192537793610719, 0.5589273809402276],\n",
              " 'Color intensity': [1.5312584637391147, 1.6831074499167908],\n",
              " 'Hue': [-0.08098377578707996, -0.012400686563507707],\n",
              " 'OD280/OD315 of diluted wines': [1.9303211378769969, 2.2324263337167185]}"
            ]
          },
          "metadata": {},
          "execution_count": 7
        }
      ]
    },
    {
      "cell_type": "code",
      "source": [
        "t2 = [(176*sample_variance)/chi_value2,(176*sample_variance)/chi_value1]\n",
        "t2\n",
        "ci_for_variance = []\n",
        "\n",
        "for i in range(len(t2[0])):\n",
        "  ci_for_variance.append([t2[0][i],t2[1][i]])\n",
        "\n",
        "ci_for_variance\n",
        "features = ['Alcohol','Malic acid','Ash','Alcalinity of ash','Total phenols','Flavanoids','Nonflavanoid phenols','Proanthocyanins','Color intensity','Hue','OD280/OD315 of diluted wines']\n",
        "\n",
        "ci_for_variance = dict(zip(features,ci_for_variance))\n",
        "\n",
        "ci_for_variance"
      ],
      "metadata": {
        "colab": {
          "base_uri": "https://localhost:8080/"
        },
        "id": "fV-HHSPToWCK",
        "outputId": "8cd6392d-c5ea-4e79-e92d-2f4cd924d53f"
      },
      "execution_count": null,
      "outputs": [
        {
          "output_type": "execute_result",
          "data": {
            "text/plain": [
              "{'Alcohol': [1.7121426993103877, 2.6032998242513776],\n",
              " 'Malic acid': [0.10970976090448878, 0.16681284883342523],\n",
              " 'Ash': [0.12625663082863195, 0.19197223746544903],\n",
              " 'Alcalinity of ash': [1.6386853709058136, 2.4916085205985765],\n",
              " 'Total phenols': [0.18857242441022193, 0.28672292299205826],\n",
              " 'Flavanoids': [0.5941926442820672, 0.9034653519557733],\n",
              " 'Nonflavanoid phenols': [0.05613026747536783, 0.08534564058980791],\n",
              " 'Proanthocyanins': [0.18175154402147845, 0.27635182674849884],\n",
              " 'Color intensity': [0.21481927108267926, 0.3266310517695732],\n",
              " 'Hue': [0.04382112592475432, 0.06662968540201647],\n",
              " 'OD280/OD315 of diluted wines': [0.8502875782775287, 1.2928557321679959]}"
            ]
          },
          "metadata": {},
          "execution_count": 11
        }
      ]
    },
    {
      "cell_type": "code",
      "source": [
        "import numpy as np\n",
        "\n",
        "sample = np.random.default_rng().normal(5,2,10)\n",
        "\n",
        "sample"
      ],
      "metadata": {
        "colab": {
          "base_uri": "https://localhost:8080/"
        },
        "id": "Ct3dgj2Ci5sA",
        "outputId": "ba90f159-3046-48c0-f9b7-d5739a966613"
      },
      "execution_count": null,
      "outputs": [
        {
          "output_type": "execute_result",
          "data": {
            "text/plain": [
              "array([ 4.75389925,  3.65513963,  8.95255978,  5.25077279, 11.15728961,\n",
              "        1.70192745,  0.95146113,  7.67649552, -0.2751172 ,  5.10827731])"
            ]
          },
          "metadata": {},
          "execution_count": 26
        }
      ]
    },
    {
      "cell_type": "code",
      "source": [
        "sample.mean()"
      ],
      "metadata": {
        "colab": {
          "base_uri": "https://localhost:8080/"
        },
        "id": "KG5D5PxUjur7",
        "outputId": "78f8c653-ca57-4154-b2d4-a764f6f9458c"
      },
      "execution_count": null,
      "outputs": [
        {
          "output_type": "execute_result",
          "data": {
            "text/plain": [
              "4.893270527825619"
            ]
          },
          "metadata": {},
          "execution_count": 27
        }
      ]
    },
    {
      "cell_type": "markdown",
      "source": [
        "$H_0 : \\mu_0 =  5.2 $\n",
        "\n"
      ],
      "metadata": {
        "id": "DfVHewWCnBkW"
      }
    },
    {
      "cell_type": "markdown",
      "source": [
        "VS"
      ],
      "metadata": {
        "id": "IFtwNB4vq_GC"
      }
    },
    {
      "cell_type": "markdown",
      "source": [
        "$ H_1: \\mu_0 \\neq 5.2 $"
      ],
      "metadata": {
        "id": "72C3nR_urAXO"
      }
    },
    {
      "cell_type": "code",
      "source": [
        "mu_0 = 5.2\n",
        "alpha = 0.05\n",
        "\n",
        "z_calc = (sample.mean() - mu_0)*np.sqrt(10)/2\n",
        "\n",
        "z_calc"
      ],
      "metadata": {
        "colab": {
          "base_uri": "https://localhost:8080/"
        },
        "id": "qtxX2tZrjfwG",
        "outputId": "e2f9aba3-61c9-4a00-802b-e551cc74ed7e"
      },
      "execution_count": null,
      "outputs": [
        {
          "output_type": "execute_result",
          "data": {
            "text/plain": [
              "-0.4849818787861421"
            ]
          },
          "metadata": {},
          "execution_count": 45
        }
      ]
    },
    {
      "cell_type": "code",
      "source": [
        "stats.norm.cdf(np.abs(z_calc)) , stats.norm.cdf(1.96)"
      ],
      "metadata": {
        "colab": {
          "base_uri": "https://localhost:8080/"
        },
        "id": "ZT9cd-vQovM0",
        "outputId": "ad857434-2f80-46ef-8e24-13bc161934c2"
      },
      "execution_count": null,
      "outputs": [
        {
          "output_type": "execute_result",
          "data": {
            "text/plain": [
              "(0.6861554000580974, 0.9750021048517795)"
            ]
          },
          "metadata": {},
          "execution_count": 48
        }
      ]
    },
    {
      "cell_type": "code",
      "source": [
        "h = np.array([175,183,164,175,163,178,177,175,178])"
      ],
      "metadata": {
        "id": "xBN65AFhrPgY"
      },
      "execution_count": null,
      "outputs": []
    },
    {
      "cell_type": "markdown",
      "source": [
        "$ H_0 : \\mu_0 = 178$"
      ],
      "metadata": {
        "id": "DFmgIq8xrhH_"
      }
    },
    {
      "cell_type": "markdown",
      "source": [
        "VS"
      ],
      "metadata": {
        "id": "L_tbTupBrrbu"
      }
    },
    {
      "cell_type": "markdown",
      "source": [
        "$ H1 : \\mu_0 \\neq 178$"
      ],
      "metadata": {
        "id": "3uJA_qzirsX9"
      }
    },
    {
      "cell_type": "code",
      "source": [
        "alpha = 0.01\n",
        "mu_0 = 178\n",
        "\n",
        "t_calc = (h.mean()-mu_0)*np.sqrt(9)/np.sqrt(h.var(ddof=1))\n",
        "\n",
        "t_calc"
      ],
      "metadata": {
        "colab": {
          "base_uri": "https://localhost:8080/"
        },
        "id": "IISbdlyurqan",
        "outputId": "1f559378-c6d9-4546-9a53-7ad99709c03b"
      },
      "execution_count": null,
      "outputs": [
        {
          "output_type": "execute_result",
          "data": {
            "text/plain": [
              "-1.724422639759308"
            ]
          },
          "metadata": {},
          "execution_count": 62
        }
      ]
    },
    {
      "cell_type": "code",
      "source": [
        "p = 2*(1-stats.t.cdf(t_calc,8))\n",
        "\n",
        "if p < alpha:\n",
        "  print('Reject')\n",
        "\n",
        "else:\n",
        "  print('Do not reject')"
      ],
      "metadata": {
        "colab": {
          "base_uri": "https://localhost:8080/"
        },
        "id": "5KYLwWAayDxA",
        "outputId": "65d70c38-f0fc-472c-e5eb-04075dfd1060"
      },
      "execution_count": null,
      "outputs": [
        {
          "output_type": "stream",
          "name": "stdout",
          "text": [
            "Do not reject\n"
          ]
        }
      ]
    }
  ],
  "metadata": {
    "colab": {
      "provenance": [],
      "mount_file_id": "1tphETabO_1-Nv4cShEb-ciJz9P6qBQJG",
      "authorship_tag": "ABX9TyOMMQ5RHmeB2P13FP5y5v66",
      "include_colab_link": true
    },
    "kernelspec": {
      "display_name": "Python 3",
      "name": "python3"
    },
    "language_info": {
      "name": "python"
    }
  },
  "nbformat": 4,
  "nbformat_minor": 0
}